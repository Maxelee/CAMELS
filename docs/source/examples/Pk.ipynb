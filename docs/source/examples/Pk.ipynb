{
 "cells": [
  {
   "cell_type": "markdown",
   "id": "b53d69aa",
   "metadata": {},
   "source": [
    "# Computing the power spectrum of the gas field\n",
    "\n",
    "Example of how to compute a power spectrum from CAMELS data"
   ]
  },
  {
   "cell_type": "code",
   "execution_count": 1,
   "id": "9ec0c781",
   "metadata": {},
   "outputs": [],
   "source": [
    "import numpy as np\n",
    "import h5py\n",
    "import MAS_library as MASL\n",
    "import Pk_library as PKL\n",
    "import matplotlib.pylab as plt"
   ]
  },
  {
   "cell_type": "markdown",
   "id": "6f2a3193",
   "metadata": {},
   "source": [
    "Get the name of the snapshot"
   ]
  },
  {
   "cell_type": "code",
   "execution_count": 2,
   "id": "60a49dda",
   "metadata": {},
   "outputs": [],
   "source": [
    "f_snap = '/home/jovyan/Data/Sims/SIMBA/LH_367/snap_020.hdf5'"
   ]
  },
  {
   "cell_type": "markdown",
   "id": "2b18b1f2",
   "metadata": {},
   "source": [
    "Open the snapshot file"
   ]
  },
  {
   "cell_type": "code",
   "execution_count": 3,
   "id": "42cd5e2f",
   "metadata": {},
   "outputs": [],
   "source": [
    "data = h5py.File(f_snap, 'r')"
   ]
  },
  {
   "cell_type": "markdown",
   "id": "dd642b4a",
   "metadata": {},
   "source": [
    "Read the snapshot header"
   ]
  },
  {
   "cell_type": "code",
   "execution_count": 4,
   "id": "e3395382",
   "metadata": {},
   "outputs": [],
   "source": [
    "BoxSize      = data['Header'].attrs[u'BoxSize']/1e3    #size of the snapshot in comoving Mpc/h\n",
    "redshift     = data['Header'].attrs[u'Redshift']       #reshift of the snapshot\n",
    "scale_factor = data['Header'].attrs[u'Time']           #scale factor\n",
    "h            = data['Header'].attrs[u'HubbleParam']    #value of the hubble parameter in 100 km/s/(Mpc/h)\n",
    "Masses       = data['Header'].attrs[u'MassTable']*1e10 #masses of the particles in Msun/h\n",
    "Np           = data['Header'].attrs[u'NumPart_Total']  #total number of particles for specie\n",
    "Omega_m      = data['Header'].attrs[u'Omega0']         #Omega_matter\n",
    "Omega_L      = data['Header'].attrs[u'OmegaLambda']    #Omega_Lambda"
   ]
  },
  {
   "cell_type": "markdown",
   "id": "98d63906",
   "metadata": {},
   "source": [
    "Read the positions and the masses of the gas particles"
   ]
  },
  {
   "cell_type": "code",
   "execution_count": 5,
   "id": "be9aeb79",
   "metadata": {},
   "outputs": [],
   "source": [
    "pos_gas   = data['PartType0/Coordinates'][:]/1e3 #Mpc/h \n",
    "mass_gas  = data['PartType0/Masses'][:]*1e10     #Msun/h"
   ]
  },
  {
   "cell_type": "markdown",
   "id": "1db83c6e",
   "metadata": {},
   "source": [
    "Check the masses positions and masses of the gas particles"
   ]
  },
  {
   "cell_type": "code",
   "execution_count": 6,
   "id": "f955be5d",
   "metadata": {},
   "outputs": [
    {
     "name": "stdout",
     "output_type": "stream",
     "text": [
      "Box size: 25.00 Mpc/h\n",
      "Snapshot redshift: 0.86\n",
      "0.00 < pos_gas_X < 25.00\n",
      "1.219e+07 < mass_gas  < 3.811e+07\n"
     ]
    }
   ],
   "source": [
    "print('Box size: %.2f Mpc/h'%BoxSize)\n",
    "print('Snapshot redshift: %.2f'%redshift)\n",
    "print('%.2f < pos_gas_X < %.2f'%(np.min(pos_gas[:,0]), np.max(pos_gas[:,0])))\n",
    "print('%.3e < mass_gas  < %.3e'%(np.min(mass_gas), np.max(mass_gas)))"
   ]
  },
  {
   "cell_type": "markdown",
   "id": "1fa12d58",
   "metadata": {},
   "source": [
    "Make sure the positions are a numpy float32 array"
   ]
  },
  {
   "cell_type": "code",
   "execution_count": 7,
   "id": "4e45ed70",
   "metadata": {},
   "outputs": [],
   "source": [
    "pos_gas = pos_gas.astype(np.float32)"
   ]
  },
  {
   "cell_type": "markdown",
   "id": "62ce0c0b",
   "metadata": {},
   "source": [
    "Define array the will contain the gas density field"
   ]
  },
  {
   "cell_type": "code",
   "execution_count": 8,
   "id": "552fdeec",
   "metadata": {},
   "outputs": [],
   "source": [
    "grid  = 512\n",
    "delta = np.zeros((grid,grid,grid), dtype=np.float32) #grid will have (512,512,512) voxels"
   ]
  },
  {
   "cell_type": "markdown",
   "id": "9c05ef16",
   "metadata": {},
   "source": [
    "Assign gas particle positions and masses to the regular grid \n",
    "We will use the Cloud-in-Cell mass assignment scheme"
   ]
  },
  {
   "cell_type": "code",
   "execution_count": 9,
   "id": "296a7bc4",
   "metadata": {},
   "outputs": [
    {
     "name": "stdout",
     "output_type": "stream",
     "text": [
      "\n",
      "Using CIC mass assignment scheme with weights\n",
      "Time taken = 1.640 seconds\n",
      "\n"
     ]
    }
   ],
   "source": [
    "MAS     = 'CIC'\n",
    "verbose = True\n",
    "MASL.MA(pos_gas, delta, BoxSize, MAS, W=mass_gas, verbose=verbose)"
   ]
  },
  {
   "cell_type": "markdown",
   "id": "701c8723",
   "metadata": {},
   "source": [
    "Check that the mass in the grid is the same as the mass of all particles"
   ]
  },
  {
   "cell_type": "code",
   "execution_count": 10,
   "id": "dff72c3a",
   "metadata": {},
   "outputs": [
    {
     "name": "stdout",
     "output_type": "stream",
     "text": [
      "Sum of all particle masses:         2.062e+14 Msun/h\n",
      "Sum of the mass in all grid voxels: 2.062e+14 Msun/h\n"
     ]
    }
   ],
   "source": [
    "print('Sum of all particle masses:         %.3e Msun/h'%np.sum(mass_gas, dtype=np.float64))\n",
    "print('Sum of the mass in all grid voxels: %.3e Msun/h'%np.sum(delta, dtype=np.float64))"
   ]
  },
  {
   "cell_type": "markdown",
   "id": "5589ecb1",
   "metadata": {},
   "source": [
    "calculate the gas overdensity field delta = mass_gas / < mass_gas > - 1"
   ]
  },
  {
   "cell_type": "code",
   "execution_count": 11,
   "id": "a29bfb87",
   "metadata": {},
   "outputs": [],
   "source": [
    "delta /= np.mean(delta, dtype=np.float32)\n",
    "delta -= 1.0"
   ]
  },
  {
   "cell_type": "markdown",
   "id": "6baa6daf",
   "metadata": {},
   "source": [
    "Check that mean is zero, and minimum cant be smaller than -1"
   ]
  },
  {
   "cell_type": "code",
   "execution_count": 12,
   "id": "52498717",
   "metadata": {},
   "outputs": [
    {
     "name": "stdout",
     "output_type": "stream",
     "text": [
      "-1.00 < delta < 11278.17\n",
      "< delta > = -2.41e-06\n"
     ]
    }
   ],
   "source": [
    "print('%.2f < delta < %.2f'%(np.min(delta), np.max(delta)))\n",
    "print('< delta > = %.2e'%(np.mean(delta, dtype=np.float64)))"
   ]
  },
  {
   "cell_type": "markdown",
   "id": "c301ef64",
   "metadata": {},
   "source": [
    "Calculate the power spectrum"
   ]
  },
  {
   "cell_type": "code",
   "execution_count": 13,
   "id": "9ed55c04",
   "metadata": {},
   "outputs": [
    {
     "name": "stdout",
     "output_type": "stream",
     "text": [
      "\n",
      "Computing power spectrum of the field...\n",
      "Time to complete loop = 7.31\n",
      "Time taken = 12.43 seconds\n"
     ]
    }
   ],
   "source": [
    "axis     = 0     #specifies the axes along which redshift-space distortions are place. Not used in real-space\n",
    "MAS      = 'CIC' #specifies the mass assignment scheme used to construct the density field\n",
    "threads  = 1     #number of openmp threads\n",
    "verbose  = True\n",
    "Pk_class = PKL.Pk(delta, BoxSize, axis, MAS, threads, verbose)\n",
    "k        = Pk_class.k3D\n",
    "Pk       = Pk_class.Pk[:,0]"
   ]
  },
  {
   "cell_type": "markdown",
   "id": "20cd1038",
   "metadata": {},
   "source": [
    "Plot power spectrum"
   ]
  },
  {
   "cell_type": "code",
   "execution_count": 14,
   "id": "365b1231",
   "metadata": {
    "tags": [
     "nbsphinx-thumbnail"
    ]
   },
   "outputs": [
    {
     "data": {
      "image/png": "[encoded data removed]",
      "text/plain": [
       "<Figure size 432x288 with 1 Axes>"
      ]
     },
     "metadata": {
      "needs_background": "light"
     },
     "output_type": "display_data"
    }
   ],
   "source": [
    "plt.xlabel(r'$k [h/{\\rm Mpc}]$')\n",
    "plt.ylabel(r'$P(k) [({\\rm Mpc}/h)^3]$')\n",
    "plt.xscale('log')\n",
    "plt.yscale('log')\n",
    "plt.plot(k, Pk)\n",
    "plt.show()"
   ]
  }
 ],
 "metadata": {
  "celltoolbar": "Tags",
  "kernelspec": {
   "display_name": "Python 3 (ipykernel)",
   "language": "python",
   "name": "python3"
  },
  "language_info": {
   "codemirror_mode": {
    "name": "ipython",
    "version": 3
   },
   "file_extension": ".py",
   "mimetype": "text/x-python",
   "name": "python",
   "nbconvert_exporter": "python",
   "pygments_lexer": "ipython3",
   "version": "3.8.12"
  }
 },
 "nbformat": 4,
 "nbformat_minor": 5
}
